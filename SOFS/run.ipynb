{
 "cells": [
  {
   "cell_type": "markdown",
   "metadata": {},
   "source": [
    "# GOTM at Southern Ocean Flux Station\n",
    "\n",
    "This notebook runs [GOTM](https://gotm.net/) with initial conditions and surface forcing according to the LES data of [Large et al., 2019](https://doi.org/10.1175/JPO-D-18-0066.1)."
   ]
  },
  {
   "cell_type": "code",
   "execution_count": null,
   "metadata": {},
   "outputs": [],
   "source": [
    "import sys\n",
    "import os\n",
    "import copy\n",
    "import numpy as np\n",
    "import matplotlib.pyplot as plt\n",
    "sys.path.append(os.path.join(os.pardir, 'gotmtool'))\n",
    "from gotmtool import *"
   ]
  },
  {
   "cell_type": "code",
   "execution_count": null,
   "metadata": {},
   "outputs": [],
   "source": [
    "casename = 'AprS'\n",
    "if casename == 'AprS':\n",
    "    starttime = '2010-04-29 00:00:00'\n",
    "    stoptime   = '2010-05-01 04:30:00'\n",
    "    depth = 350.0\n",
    "elif casename == \"AprN\":\n",
    "    starttime = \"2010-04-29 00:00:00\"\n",
    "    stoptime  = \"2010-05-01 02:00:00\"\n",
    "    depth = 350.0\n",
    "elif casename== \"JunS\":\n",
    "    starttime = \"2010-06-07 06:45:00\"\n",
    "    stoptime  = \"2010-06-08 23:45:00\"\n",
    "    depth = 500.0\n",
    "elif casename == \"JunN\":\n",
    "    starttime = \"2010-06-07 06:45:00\"\n",
    "    stoptime  = \"2010-06-08 21:15:00\"\n",
    "    depth = 500.0\n",
    "else:\n",
    "    raise ValueError('Case {:s} not supported. Stop.'.format(casename))"
   ]
  },
  {
   "cell_type": "markdown",
   "metadata": {},
   "source": [
    "## Create a model\n",
    "Create a model with environment file `gotmtool/.gotm_env.yaml`, which is created by `gotm_env_init.py`. "
   ]
  },
  {
   "cell_type": "code",
   "execution_count": null,
   "metadata": {},
   "outputs": [],
   "source": [
    "m = Model(name='SOFS-{:s}'.format(casename), environ=os.path.join(os.pardir, 'gotmtool', '.gotm_env.yaml'))"
   ]
  },
  {
   "cell_type": "code",
   "execution_count": null,
   "metadata": {},
   "outputs": [],
   "source": [
    "os.getcwd()"
   ]
  },
  {
   "cell_type": "markdown",
   "metadata": {},
   "source": [
    "Take a look at what are defined in the environment file."
   ]
  },
  {
   "cell_type": "code",
   "execution_count": null,
   "metadata": {},
   "outputs": [],
   "source": [
    "for key in m.environ:\n",
    "    print('{:>15s}: {}'.format(key, m.environ[key]) )"
   ]
  },
  {
   "cell_type": "markdown",
   "metadata": {},
   "source": [
    "## Build the model"
   ]
  },
  {
   "cell_type": "code",
   "execution_count": null,
   "metadata": {},
   "outputs": [],
   "source": [
    "%%time\n",
    "m.build()"
   ]
  },
  {
   "cell_type": "markdown",
   "metadata": {},
   "source": [
    "## Configuration\n",
    "Initialize the GOTM configuration"
   ]
  },
  {
   "cell_type": "code",
   "execution_count": null,
   "metadata": {},
   "outputs": [],
   "source": [
    "cfg = m.init_config()"
   ]
  },
  {
   "cell_type": "markdown",
   "metadata": {},
   "source": [
    "Update the configuration"
   ]
  },
  {
   "cell_type": "code",
   "execution_count": null,
   "metadata": {},
   "outputs": [],
   "source": [
    "# setup\n",
    "title = 'SOFS - {:s}'.format(casename)\n",
    "nlev = int(depth)\n",
    "cfg['title'] = title\n",
    "cfg['location']['name'] = 'SOFS'\n",
    "cfg['location']['latitude'] = -47.0\n",
    "cfg['location']['longitude'] = 141.9\n",
    "cfg['location']['depth'] = depth\n",
    "cfg['time']['start'] = starttime\n",
    "cfg['time']['stop']  = stoptime\n",
    "cfg['time']['dt']    = 600.0\n",
    "cfg['grid']['nlev']  = nlev\n",
    "\n",
    "# output\n",
    "cfg['output'] = {}\n",
    "cfg['output']['gotm_out'] = {}\n",
    "cfg['output']['gotm_out']['use'] = True\n",
    "cfg['output']['gotm_out']['title'] = title\n",
    "cfg['output']['gotm_out']['k1_stop'] = nlev+1\n",
    "cfg['output']['gotm_out']['k_stop'] = nlev\n",
    "cfg['output']['gotm_out']['time_unit'] = 'dt'\n",
    "cfg['output']['gotm_out']['time_step'] = 3\n",
    "cfg['output']['gotm_out']['variables'] = [{}]\n",
    "cfg['output']['gotm_out']['variables'][0]['source'] = '*'\n",
    "\n",
    "# forcing\n",
    "datadir = os.path.join(os.getcwd(), 'data_{:s}'.format(casename))\n",
    "cfg['temperature']['method'] = 'file'\n",
    "cfg['temperature']['file'] = os.path.join(datadir, 't_prof.dat')\n",
    "cfg['salinity']['method'] = 'constant'\n",
    "cfg['salinity']['constant_value'] = 35.0\n",
    "cfg['surface']['fluxes']['heat']['method'] = 'file'\n",
    "cfg['surface']['fluxes']['heat']['file'] = os.path.join(datadir, 'heat_flux.dat')\n",
    "cfg['surface']['fluxes']['tx']['method'] = 'file'\n",
    "cfg['surface']['fluxes']['tx']['file'] = os.path.join(datadir, 'momentum_flux.dat')\n",
    "cfg['surface']['fluxes']['tx']['column'] = 1\n",
    "cfg['surface']['fluxes']['ty']['method'] = 'file'\n",
    "cfg['surface']['fluxes']['ty']['file'] = os.path.join(datadir, 'momentum_flux.dat')\n",
    "cfg['surface']['fluxes']['ty']['column'] = 2\n",
    "cfg['surface']['swr']['method'] = 'constant'\n",
    "cfg['surface']['swr']['constant_value'] = 0.0\n",
    "cfg['surface']['precip']['method'] = 'constant'\n",
    "cfg['surface']['precip']['constant_value'] = 0.0\n",
    "cfg['velocities']['u']['method'] = 'file'\n",
    "cfg['velocities']['u']['file'] = os.path.join(datadir, 'vel_prof.dat')\n",
    "cfg['velocities']['u']['column'] = 1\n",
    "cfg['velocities']['v']['method'] = 'file'\n",
    "cfg['velocities']['v']['file'] = os.path.join(datadir, 'vel_prof.dat')\n",
    "cfg['velocities']['v']['column'] = 2\n",
    "cfg['waves']['stokes_drift']['us0']['method'] = 'file'\n",
    "cfg['waves']['stokes_drift']['us0']['file'] = os.path.join(datadir, 'us0.dat')\n",
    "cfg['waves']['stokes_drift']['us0']['column'] = 1\n",
    "cfg['waves']['stokes_drift']['vs0']['method'] = 'file'\n",
    "cfg['waves']['stokes_drift']['vs0']['file'] = os.path.join(datadir, 'us0.dat')\n",
    "cfg['waves']['stokes_drift']['vs0']['column'] = 2\n",
    "cfg['waves']['stokes_drift']['us']['method'] = 'file'\n",
    "cfg['waves']['stokes_drift']['us']['file'] = os.path.join(datadir, 'us_prof.dat')\n",
    "cfg['waves']['stokes_drift']['us']['column'] = 1\n",
    "cfg['waves']['stokes_drift']['vs']['method'] = 'file'\n",
    "cfg['waves']['stokes_drift']['vs']['file'] = os.path.join(datadir, 'us_prof.dat')\n",
    "cfg['waves']['stokes_drift']['vs']['column'] = 2\n",
    "\n",
    "# EOS -- use linear\n",
    "cfg['equation_of_state']['method'] = 'linear_custom'\n",
    "cfg['equation_of_state']['linear']['T0'] = 12.0\n",
    "cfg['equation_of_state']['linear']['S0'] = 35.0\n",
    "cfg['equation_of_state']['linear']['alpha'] = 1.668e-4\n",
    "cfg['equation_of_state']['linear']['beta'] = 7.81e-4\n",
    "cfg['equation_of_state']['linear']['cp'] = 4200\n",
    "cfg['equation_of_state']['rho0'] = 1000"
   ]
  },
  {
   "cell_type": "markdown",
   "metadata": {},
   "source": [
    "Now run the case with [CVMix](http://cvmix.github.io).\n",
    "- KPPLT-LF17 ([Li and Fox-Kemper, 2017](https://doi.org/10.1175%2FJPO-D-17-0085.1))\n",
    "- StokesMOST ([Large et al., 2021](https://doi.org/10.1175/JPO-D-20-0308.1))"
   ]
  },
  {
   "cell_type": "code",
   "execution_count": null,
   "metadata": {},
   "outputs": [],
   "source": [
    "cfgs = []\n",
    "labels = []"
   ]
  },
  {
   "cell_type": "code",
   "execution_count": null,
   "metadata": {},
   "outputs": [],
   "source": [
    "cfg['turbulence']['turb_method'] = 'cvmix'\n",
    "cfg['cvmix']['surface_layer']['langmuir_method'] = 'lf17'\n",
    "cfgs.append(copy.deepcopy(cfg))\n",
    "labels.append('KPPLT-LF17')\n",
    "cfg['cvmix']['surface_layer']['langmuir_method'] = 'none'\n",
    "cfg['cvmix']['surface_layer']['use_Stokes_MOST'] = True\n",
    "cfgs.append(copy.deepcopy(cfg))\n",
    "labels.append('StokesMOST')"
   ]
  },
  {
   "cell_type": "markdown",
   "metadata": {},
   "source": [
    "## Run the model"
   ]
  },
  {
   "cell_type": "code",
   "execution_count": null,
   "metadata": {},
   "outputs": [],
   "source": [
    "%%time\n",
    "sims = m.run_batch(configs=cfgs, labels=labels, nproc=2)"
   ]
  },
  {
   "cell_type": "markdown",
   "metadata": {},
   "source": [
    "## Results\n",
    "\n",
    "Load the data into an `xarray.Dataset`."
   ]
  },
  {
   "cell_type": "code",
   "execution_count": null,
   "metadata": {},
   "outputs": [],
   "source": [
    "data1 = sims[0].load_data()\n",
    "data2 = sims[1].load_data()"
   ]
  },
  {
   "cell_type": "code",
   "execution_count": null,
   "metadata": {},
   "outputs": [],
   "source": [
    "fig, axarr = plt.subplots(2, 1, sharex='col')\n",
    "fig.set_size_inches([8,6])\n",
    "data1.u.plot(ax=axarr[0])\n",
    "data2.u.plot(ax=axarr[1])"
   ]
  }
 ],
 "metadata": {
  "kernelspec": {
   "display_name": "Python 3",
   "language": "python",
   "name": "python3"
  },
  "language_info": {
   "codemirror_mode": {
    "name": "ipython",
    "version": 3
   },
   "file_extension": ".py",
   "mimetype": "text/x-python",
   "name": "python",
   "nbconvert_exporter": "python",
   "pygments_lexer": "ipython3",
   "version": "3.9.15"
  }
 },
 "nbformat": 4,
 "nbformat_minor": 4
}
