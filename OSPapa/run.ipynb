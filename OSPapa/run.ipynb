{
 "cells": [
  {
   "cell_type": "markdown",
   "metadata": {},
   "source": [
    "# GOTM at Ocean station Papa\n",
    "\n",
    "This notebook runs [GOTM](https://gotm.net/) with initial conditions and surface forcing at the [ocean station Papa](https://www.pmel.noaa.gov/ocs/Papa), using computed fluxes."
   ]
  },
  {
   "cell_type": "code",
   "execution_count": null,
   "metadata": {},
   "outputs": [],
   "source": [
    "import sys\n",
    "import os\n",
    "import copy\n",
    "import numpy as np\n",
    "import matplotlib.pyplot as plt\n",
    "sys.path.append(os.path.join(os.pardir, 'gotmtool'))\n",
    "from gotmtool import *"
   ]
  },
  {
   "cell_type": "markdown",
   "metadata": {},
   "source": [
    "## Create a model\n",
    "Create a model with environment file `gotmtool/.gotm_env.yaml`, which is created by `gotm_env_init.py`. "
   ]
  },
  {
   "cell_type": "code",
   "execution_count": null,
   "metadata": {},
   "outputs": [],
   "source": [
    "m = Model(name='OSPapa_flux', environ=os.path.join(os.pardir, 'gotmtool', '.gotm_env.yaml'))"
   ]
  },
  {
   "cell_type": "markdown",
   "metadata": {},
   "source": [
    "Take a look at what are defined in the environment file."
   ]
  },
  {
   "cell_type": "code",
   "execution_count": null,
   "metadata": {},
   "outputs": [],
   "source": [
    "for key in m.environ:\n",
    "    print('{:>15s}: {}'.format(key, m.environ[key]) )"
   ]
  },
  {
   "cell_type": "markdown",
   "metadata": {},
   "source": [
    "## Build the model"
   ]
  },
  {
   "cell_type": "code",
   "execution_count": null,
   "metadata": {},
   "outputs": [],
   "source": [
    "%%time\n",
    "m.build()"
   ]
  },
  {
   "cell_type": "markdown",
   "metadata": {},
   "source": [
    "## Configuration\n",
    "Initialize the GOTM configuration"
   ]
  },
  {
   "cell_type": "code",
   "execution_count": null,
   "metadata": {},
   "outputs": [],
   "source": [
    "cfg = m.init_config()"
   ]
  },
  {
   "cell_type": "markdown",
   "metadata": {},
   "source": [
    "Update the configuration"
   ]
  },
  {
   "cell_type": "code",
   "execution_count": null,
   "metadata": {},
   "outputs": [],
   "source": [
    "# setup\n",
    "title = 'OSPapa (flux)'\n",
    "nlev = 150\n",
    "cfg['title'] = title\n",
    "cfg['location']['name'] = 'Papa'\n",
    "cfg['location']['latitude'] = 50.1\n",
    "cfg['location']['longitude'] = -144.9\n",
    "cfg['location']['depth'] = 150.0\n",
    "cfg['time']['start'] = '2012-03-21 00:00:00'\n",
    "cfg['time']['stop']  = '2013-03-21 00:00:00'\n",
    "cfg['time']['dt']    = 3600.0\n",
    "cfg['grid']['nlev']  = nlev\n",
    "\n",
    "# output\n",
    "cfg['output'] = {}\n",
    "cfg['output']['gotm_out'] = {}\n",
    "cfg['output']['gotm_out']['use'] = True\n",
    "cfg['output']['gotm_out']['title'] = title\n",
    "cfg['output']['gotm_out']['k1_stop'] = nlev+1\n",
    "cfg['output']['gotm_out']['k_stop'] = nlev\n",
    "cfg['output']['gotm_out']['time_unit'] = 'dt'\n",
    "cfg['output']['gotm_out']['time_step'] = 3\n",
    "cfg['output']['gotm_out']['variables'] = [{}]\n",
    "cfg['output']['gotm_out']['variables'][0]['source'] = '*'\n",
    "\n",
    "# forcing\n",
    "datadir = os.path.join(os.getcwd(), 'data')\n",
    "cfg['temperature']['method'] = 'file'\n",
    "cfg['temperature']['file'] = os.path.join(datadir, 't_prof.dat')\n",
    "cfg['salinity']['method'] = 'file'\n",
    "cfg['salinity']['file'] = os.path.join(datadir, 's_prof.dat')\n",
    "cfg['surface']['fluxes']['method'] = 'off'\n",
    "cfg['surface']['fluxes']['heat']['method'] = 'file'\n",
    "cfg['surface']['fluxes']['heat']['file'] = os.path.join(datadir, 'heat_flux.dat')\n",
    "cfg['surface']['fluxes']['tx']['method'] = 'file'\n",
    "cfg['surface']['fluxes']['tx']['file'] = os.path.join(datadir, 'momentum_flux.dat')\n",
    "cfg['surface']['fluxes']['tx']['column'] = 1\n",
    "cfg['surface']['fluxes']['ty']['method'] = 'file'\n",
    "cfg['surface']['fluxes']['ty']['file'] = os.path.join(datadir, 'momentum_flux.dat')\n",
    "cfg['surface']['fluxes']['ty']['column'] = 2\n",
    "cfg['surface']['u10']['method'] = 'file'\n",
    "cfg['surface']['u10']['file'] = os.path.join(datadir, 'u10.dat')\n",
    "cfg['surface']['u10']['column'] = 1\n",
    "cfg['surface']['v10']['method'] = 'file'\n",
    "cfg['surface']['v10']['file'] = os.path.join(datadir, 'u10.dat')\n",
    "cfg['surface']['v10']['column'] = 2\n",
    "cfg['surface']['swr']['method'] = 'file'\n",
    "cfg['surface']['swr']['file'] = os.path.join(datadir, 'swr.dat')\n",
    "cfg['surface']['precip']['method'] = 'file'\n",
    "cfg['surface']['precip']['file'] = os.path.join(datadir, 'pme.dat')\n",
    "cfg['surface']['calc_evaporation'] = False\n",
    "cfg['surface']['sst']['method'] = 'file'\n",
    "cfg['surface']['sst']['file'] = os.path.join(datadir, 'sst.dat')\n",
    "cfg['surface']['sss']['method'] = 'file'\n",
    "cfg['surface']['sss']['file'] = os.path.join(datadir, 'sss.dat')\n",
    "\n",
    "cfg['waves']['stokes_drift']['us0']['method'] = 'file'\n",
    "cfg['waves']['stokes_drift']['us0']['file'] = os.path.join(datadir, 'us_surface.dat')\n",
    "cfg['waves']['stokes_drift']['us0']['column'] = 1\n",
    "cfg['waves']['stokes_drift']['vs0']['method'] = 'file'\n",
    "cfg['waves']['stokes_drift']['vs0']['file'] = os.path.join(datadir, 'us_surface.dat')\n",
    "cfg['waves']['stokes_drift']['vs0']['column'] = 2\n",
    "cfg['waves']['stokes_drift']['us']['method'] = 'file'\n",
    "cfg['waves']['stokes_drift']['us']['file'] = os.path.join(datadir, 'us_prof.dat')\n",
    "cfg['waves']['stokes_drift']['us']['column'] = 1\n",
    "cfg['waves']['stokes_drift']['vs']['method'] = 'file'\n",
    "cfg['waves']['stokes_drift']['vs']['file'] = os.path.join(datadir, 'us_prof.dat')\n",
    "cfg['waves']['stokes_drift']['vs']['column'] = 2\n",
    "\n",
    "# water type (Jerlov 1B)\n",
    "cfg['light_extinction']['method'] = 'jerlov-ib'\n"
   ]
  },
  {
   "cell_type": "markdown",
   "metadata": {},
   "source": [
    "Now run the case with [CVMix](http://cvmix.github.io).\n",
    "- KPPLT-LF17 ([Li and Fox-Kemper, 2017](https://doi.org/10.1175%2FJPO-D-17-0085.1))\n",
    "- StokesMOST ([Large et al., 2021](https://doi.org/10.1175/JPO-D-20-0308.1))Run the case with KPP in [CVMix](http://cvmix.github.io)."
   ]
  },
  {
   "cell_type": "code",
   "execution_count": null,
   "metadata": {},
   "outputs": [],
   "source": [
    "cfgs = []\n",
    "labels = []"
   ]
  },
  {
   "cell_type": "code",
   "execution_count": null,
   "metadata": {},
   "outputs": [],
   "source": [
    "cfg['turbulence']['turb_method'] = 'cvmix'\n",
    "cfg['cvmix']['surface_layer']['langmuir_method'] = 'lf17'\n",
    "cfgs.append(copy.deepcopy(cfg))\n",
    "labels.append('KPPLT-LF17')\n",
    "cfg['cvmix']['surface_layer']['langmuir_method'] = 'none'\n",
    "cfg['cvmix']['surface_layer']['use_Stokes_MOST'] = True\n",
    "cfgs.append(copy.deepcopy(cfg))\n",
    "labels.append('StokesMOST')"
   ]
  },
  {
   "cell_type": "markdown",
   "metadata": {},
   "source": [
    "## Run the model"
   ]
  },
  {
   "cell_type": "code",
   "execution_count": null,
   "metadata": {},
   "outputs": [],
   "source": [
    "%%time\n",
    "sims = m.run_batch(configs=cfgs, labels=labels, nproc=2)"
   ]
  },
  {
   "cell_type": "markdown",
   "metadata": {},
   "source": [
    "## Results\n",
    "\n",
    "Load the data into an `xarray.Dataset`."
   ]
  },
  {
   "cell_type": "code",
   "execution_count": null,
   "metadata": {},
   "outputs": [],
   "source": [
    "data1 = sims[0].load_data()\n",
    "data2 = sims[1].load_data()"
   ]
  },
  {
   "cell_type": "code",
   "execution_count": null,
   "metadata": {},
   "outputs": [],
   "source": [
    "fig, axarr = plt.subplots(2, 1, sharex='col')\n",
    "fig.set_size_inches([8,6])\n",
    "data1.temp.plot(ax=axarr[0])\n",
    "data2.temp.plot(ax=axarr[1])\n",
    "for i, ax in enumerate(axarr):\n",
    "    ax.set_title('')\n",
    "    ax.set_xlabel('')\n",
    "    ax.text(0.03, 0.05, labels[i], transform=ax.transAxes, color='w', fontsize=11, va='bottom')"
   ]
  },
  {
   "cell_type": "code",
   "execution_count": null,
   "metadata": {},
   "outputs": [],
   "source": []
  }
 ],
 "metadata": {
  "kernelspec": {
   "display_name": "Python 3",
   "language": "python",
   "name": "python3"
  },
  "language_info": {
   "codemirror_mode": {
    "name": "ipython",
    "version": 3
   },
   "file_extension": ".py",
   "mimetype": "text/x-python",
   "name": "python",
   "nbconvert_exporter": "python",
   "pygments_lexer": "ipython3",
   "version": "3.9.15"
  }
 },
 "nbformat": 4,
 "nbformat_minor": 4
}
