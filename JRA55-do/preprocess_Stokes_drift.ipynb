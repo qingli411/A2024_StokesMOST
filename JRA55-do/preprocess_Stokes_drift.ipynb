{
 "cells": [
  {
   "cell_type": "markdown",
   "metadata": {},
   "source": [
    "# Stokes drift\n",
    "\n",
    "This notebook computes Stokes drift from partitioned Stokes drift."
   ]
  },
  {
   "cell_type": "code",
   "execution_count": null,
   "metadata": {},
   "outputs": [],
   "source": [
    "import sys\n",
    "import os\n",
    "import numpy as np\n",
    "import xarray as xr\n",
    "import pandas as pd\n",
    "sys.path.append(os.path.join(os.pardir, 'gotmtool'))\n",
    "from gotmtool import *\n",
    "from gotmtool.stokesdrift import stokes_drift_usp"
   ]
  },
  {
   "cell_type": "markdown",
   "metadata": {},
   "source": [
    "### Load data"
   ]
  },
  {
   "cell_type": "code",
   "execution_count": null,
   "metadata": {},
   "outputs": [],
   "source": [
    "gotmtool_config = os.path.join(os.pardir, 'gotmtool', '.gotm_env.yaml')\n",
    "gotm_env = config_load(gotmtool_config)"
   ]
  },
  {
   "cell_type": "code",
   "execution_count": null,
   "metadata": {},
   "outputs": [],
   "source": [
    "inputstart = '20080601'\n",
    "inputend = '20091231'\n",
    "gotmdata = 'gotmdata_jra55do_20180920'\n",
    "dlon = 4\n",
    "dlat = 4\n",
    "lat_start = -70\n",
    "lat_end = 70\n",
    "lon_start = 2\n",
    "lon_end = 358\n",
    "datadir = os.path.join(gotm_env['gotmdir_data'], 'gotm', 'gotmdata', gotmdata)\n",
    "inputdir = os.path.join(gotm_env['gotmdir_data'], 'gotm', 'gotmdata', 'WAVEWATCH_JRA55-do')"
   ]
  },
  {
   "cell_type": "code",
   "execution_count": null,
   "metadata": {},
   "outputs": [],
   "source": [
    "caselist = os.listdir(datadir)"
   ]
  },
  {
   "cell_type": "code",
   "execution_count": null,
   "metadata": {},
   "outputs": [],
   "source": [
    "ds = xr.open_mfdataset(os.path.join(inputdir, 'ww3.200?_usp.nc'))"
   ]
  },
  {
   "cell_type": "code",
   "execution_count": null,
   "metadata": {},
   "outputs": [],
   "source": [
    "ds"
   ]
  },
  {
   "cell_type": "markdown",
   "metadata": {},
   "source": [
    "### Vertical grid"
   ]
  },
  {
   "cell_type": "code",
   "execution_count": null,
   "metadata": {},
   "outputs": [],
   "source": [
    "z1 = -np.linspace(0.5, 35.5, 36)\n",
    "z2 = -np.linspace(40, 200, 17)\n",
    "z = np.concatenate((np.array([0.0]), z1, z2))"
   ]
  },
  {
   "cell_type": "markdown",
   "metadata": {},
   "source": [
    "### Compute and save Stokes drift"
   ]
  },
  {
   "cell_type": "code",
   "execution_count": null,
   "metadata": {},
   "outputs": [],
   "source": [
    "%%time\n",
    "\n",
    "for case in caselist:\n",
    "    outputdir = os.path.join(datadir, case)\n",
    "    pfldata = os.path.join(outputdir, 'us_prof.dat')\n",
    "    srfdata = os.path.join(outputdir, 'us_surface.dat')\n",
    "    if (not os.path.exists(pfldata)) or (not os.path.exists(srfdata)):\n",
    "        _, latstr, lonstr, _ = case.split('_')\n",
    "        rlat = float(latstr[3:])\n",
    "        rlon = float(lonstr[3:])\n",
    "        if rlon >= 180:\n",
    "            rlon = rlon - 360.0\n",
    "        dss = ds.sel(time=slice(inputstart,inputend), longitude=rlon, latitude=rlat)\n",
    "\n",
    "        # time\n",
    "        time = dss.time.values\n",
    "        ntime = time.size\n",
    "        # band center frequency\n",
    "        freq = dss.f.values\n",
    "        # partitioned Stokes drift\n",
    "        ussp = dss.data_vars['ussp'].values\n",
    "        vssp = dss.data_vars['vssp'].values\n",
    "\n",
    "        # Compute Stokes drift\n",
    "        ntime = time.size\n",
    "        nz = z.size\n",
    "        us = np.zeros([ntime, nz])\n",
    "        vs = np.zeros([ntime, nz])\n",
    "        for i in np.arange(ntime):\n",
    "            us[i,:], vs[i,:] = stokes_drift_usp(z, freq, ussp[i,:], vssp[i,:])\n",
    "\n",
    "        # Convert time from `numpy.datetime64` to `datetime.datetime`\n",
    "        dttime = [pd.Timestamp(time[i]).to_pydatetime() for i in np.arange(ntime)]\n",
    "\n",
    "        #Save Stokes drift to file\n",
    "        dat_dump_pfl(dttime, z, [us, vs], pfldata)\n",
    "        dat_dump_ts(dttime, [us[:,0], vs[:,0]], srfdata)"
   ]
  }
 ],
 "metadata": {
  "kernelspec": {
   "display_name": "Python 3",
   "language": "python",
   "name": "python3"
  },
  "language_info": {
   "codemirror_mode": {
    "name": "ipython",
    "version": 3
   },
   "file_extension": ".py",
   "mimetype": "text/x-python",
   "name": "python",
   "nbconvert_exporter": "python",
   "pygments_lexer": "ipython3",
   "version": "3.9.15"
  }
 },
 "nbformat": 4,
 "nbformat_minor": 4
}
