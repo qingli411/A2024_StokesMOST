{
 "cells": [
  {
   "cell_type": "markdown",
   "metadata": {},
   "source": [
    "# JRA55-do forced simulations\n",
    "\n",
    "This notebook runs a set of [GOTM](https://gotm.net/) simulations within each $4^\\circ \\times 4^\\circ$ box over the global ocean between 72$^\\circ$ N/S using realistic surface forcing and ocean surface wave information from [JRA55-do](https://climate.mri-jma.go.jp/pub/ocean/JRA55-do/) and JRA55-do forced WAVEWATCH III simulations. Initial conditions were taken from [Argo](https://argo.ucsd.edu/) profiles. See [Li et al., 2019](https://doi.org/10.1029/2019MS001810) for more details."
   ]
  },
  {
   "cell_type": "code",
   "execution_count": null,
   "metadata": {},
   "outputs": [],
   "source": [
    "import sys\n",
    "import os\n",
    "import copy\n",
    "import numpy as np\n",
    "import matplotlib.pyplot as plt\n",
    "sys.path.append(os.path.join(os.pardir, 'gotmtool'))\n",
    "from gotmtool import *"
   ]
  },
  {
   "cell_type": "markdown",
   "metadata": {},
   "source": [
    "## Create a model\n",
    "Create a model with environment file `gotmtool/.gotm_env.yaml`, which is created by `gotm_env_init.py`. "
   ]
  },
  {
   "cell_type": "code",
   "execution_count": null,
   "metadata": {},
   "outputs": [],
   "source": [
    "m = Model(name='JRA55-do_Global_dampV5d_3h', environ=os.path.join(os.pardir, 'gotmtool', '.gotm_env.yaml'))"
   ]
  },
  {
   "cell_type": "markdown",
   "metadata": {},
   "source": [
    "Take a look at what are defined in the environment file."
   ]
  },
  {
   "cell_type": "code",
   "execution_count": null,
   "metadata": {},
   "outputs": [],
   "source": [
    "for key in m.environ:\n",
    "    print('{:>15s}: {}'.format(key, m.environ[key]) )"
   ]
  },
  {
   "cell_type": "markdown",
   "metadata": {},
   "source": [
    "## Build the model"
   ]
  },
  {
   "cell_type": "code",
   "execution_count": null,
   "metadata": {},
   "outputs": [],
   "source": [
    "%%time\n",
    "m.build()"
   ]
  },
  {
   "cell_type": "markdown",
   "metadata": {},
   "source": [
    "## Configuration\n",
    "Initialize the GOTM configuration"
   ]
  },
  {
   "cell_type": "code",
   "execution_count": null,
   "metadata": {},
   "outputs": [],
   "source": [
    "cfg = m.init_config()"
   ]
  },
  {
   "cell_type": "markdown",
   "metadata": {},
   "source": [
    "Update the configuration"
   ]
  },
  {
   "cell_type": "code",
   "execution_count": null,
   "metadata": {},
   "outputs": [],
   "source": [
    "# setup\n",
    "title = 'JRA55-do'\n",
    "nlev = 500\n",
    "depth = 500\n",
    "dt = 600\n",
    "dz = depth/nlev\n",
    "\n",
    "inputstart = '20080601'\n",
    "inputend = '20091231'\n",
    "gotmdata = 'gotmdata_jra55do_20180920'\n",
    "dlon = 4\n",
    "dlat = 4\n",
    "lat_start = -70\n",
    "lat_end = 70\n",
    "lon_start = 2\n",
    "lon_end = 358\n",
    "simtime = {\n",
    "    '20080601': '20080630',\n",
    "    '20080701': '20080731',\n",
    "    '20080801': '20080831',\n",
    "    '20080901': '20080930',\n",
    "    '20081001': '20081031',\n",
    "    '20081101': '20081130',\n",
    "    '20081201': '20081231',\n",
    "    '20090101': '20090131',\n",
    "    '20090201': '20090228',\n",
    "    '20090301': '20090331',\n",
    "    '20090401': '20090430',\n",
    "    '20090501': '20090531',\n",
    "}\n",
    "datadir = os.path.join(m.environ['gotmdir_data'], 'gotm', 'gotmdata', gotmdata)\n"
   ]
  },
  {
   "cell_type": "code",
   "execution_count": null,
   "metadata": {},
   "outputs": [],
   "source": [
    "datadir"
   ]
  },
  {
   "cell_type": "code",
   "execution_count": null,
   "metadata": {},
   "outputs": [],
   "source": [
    "# config\n",
    "cfg['title'] = title\n",
    "cfg['location']['depth'] = depth\n",
    "cfg['time']['dt']    = dt\n",
    "cfg['grid']['nlev']  = nlev\n",
    "\n",
    "# output\n",
    "cfg['output'] = {}\n",
    "cfg['output']['gotm_out'] = {}\n",
    "cfg['output']['gotm_out']['use'] = True\n",
    "cfg['output']['gotm_out']['title'] = title\n",
    "cfg['output']['gotm_out']['k1_stop'] = nlev+1\n",
    "cfg['output']['gotm_out']['k_stop'] = nlev\n",
    "cfg['output']['gotm_out']['time_unit'] = 'hour'\n",
    "cfg['output']['gotm_out']['time_step'] = 3\n",
    "# cfg['output']['gotm_out']['variables'] = [{'source':'temp'}, {'source':'salt'}]\n",
    "cfg['output']['gotm_out']['variables'] = [{'source': '*'}]\n",
    "\n",
    "# forcing\n",
    "cfg['temperature']['method'] = 'file'\n",
    "cfg['salinity']['method'] = 'file'\n",
    "cfg['surface']['fluxes']['method'] = 'fairall'\n",
    "cfg['surface']['u10']['method'] = 'file'\n",
    "cfg['surface']['u10']['column'] = 1\n",
    "cfg['surface']['v10']['method'] = 'file'\n",
    "cfg['surface']['v10']['column'] = 2\n",
    "cfg['surface']['airp']['method'] = 'file'\n",
    "cfg['surface']['airp']['column'] = 3\n",
    "cfg['surface']['airp']['scale_factor'] = 100.\n",
    "cfg['surface']['airt']['method'] = 'file'\n",
    "cfg['surface']['airt']['column'] = 4\n",
    "cfg['surface']['hum']['method'] = 'file'\n",
    "cfg['surface']['hum']['column'] = 5\n",
    "cfg['surface']['hum']['type'] = 'specific'\n",
    "cfg['surface']['swr']['method'] = 'file'\n",
    "cfg['surface']['longwave_radiation']['method'] = 'clark'\n",
    "cfg['surface']['precip']['method'] = 'file'\n",
    "cfg['surface']['precip']['scale_factor'] = 1e-3\n",
    "cfg['surface']['calc_evaporation'] = False\n",
    "\n",
    "# waves\n",
    "cfg['waves']['Hs']['method'] = 'file'\n",
    "cfg['waves']['Hs']['column'] = 1\n",
    "cfg['waves']['stokes_drift']['us0']['method'] = 'file'\n",
    "cfg['waves']['stokes_drift']['us0']['column'] = 1\n",
    "cfg['waves']['stokes_drift']['vs0']['method'] = 'file'\n",
    "cfg['waves']['stokes_drift']['vs0']['column'] = 2\n",
    "cfg['waves']['stokes_drift']['us']['method'] = 'file'\n",
    "cfg['waves']['stokes_drift']['us']['column'] = 1\n",
    "cfg['waves']['stokes_drift']['vs']['method'] = 'file'\n",
    "cfg['waves']['stokes_drift']['vs']['column'] = 2\n",
    "\n",
    "# relax velocity to zero with time scale of 5 days\n",
    "cfg['velocities']['u']['method'] = 'constant'\n",
    "cfg['velocities']['u']['constant_value'] = 0.0\n",
    "cfg['velocities']['v']['method'] = 'constant'\n",
    "cfg['velocities']['v']['constant_value'] = 0.0\n",
    "cfg['velocities']['relax']['tau'] = 432000\n",
    "\n",
    "# water type (Jerlov 1)\n",
    "cfg['light_extinction']['method'] = 'jerlov-i'\n",
    "\n",
    "# EOS -- use linear\n",
    "cfg['equation_of_state']['method'] = 'linear_custom'\n",
    "cfg['equation_of_state']['linear']['T0'] = 10.0\n",
    "cfg['equation_of_state']['linear']['S0'] = 35.0\n",
    "cfg['equation_of_state']['linear']['alpha'] = 1.66e-4\n",
    "cfg['equation_of_state']['linear']['beta'] = 7.6e-4\n",
    "cfg['equation_of_state']['rho0'] = 1027.0\n",
    "cfg['equation_of_state']['linear']['cp'] = 3985.0"
   ]
  },
  {
   "cell_type": "code",
   "execution_count": null,
   "metadata": {},
   "outputs": [],
   "source": [
    "cfgs = []\n",
    "labels = []"
   ]
  },
  {
   "cell_type": "code",
   "execution_count": null,
   "metadata": {},
   "outputs": [],
   "source": [
    "# caselist = ['JRA55-do_LAT-70_LON270_20080601-20091231']\n",
    "caselist = os.listdir(datadir)\n",
    "ncase = len(caselist)\n",
    "tenp = int(ncase/10)\n",
    "for i, case in enumerate(caselist):\n",
    "    if i%tenp == 0:\n",
    "        print('Progress: {:f} %'.format(i/ncase*100))\n",
    "    _, latstr, lonstr, _ = case.split('_')\n",
    "    casename = '{:s}_{:s}_{:s}'.format(title, latstr, lonstr)\n",
    "    rlat = float(latstr[3:])\n",
    "    rlon = float(lonstr[3:])\n",
    "    if rlon >= 180:\n",
    "        rlon = rlon - 360.0\n",
    "    inputdir = os.path.join(datadir, case)\n",
    "    cfg['location']['name'] = case\n",
    "    cfg['location']['latitude'] = rlat\n",
    "    cfg['location']['longitude'] = rlon\n",
    "    cfg['surface']['u10']['file'] = os.path.join(inputdir, 'meteo_file.dat')\n",
    "    cfg['surface']['v10']['file'] = os.path.join(inputdir, 'meteo_file.dat')\n",
    "    cfg['surface']['airp']['file'] = os.path.join(inputdir, 'meteo_file.dat')\n",
    "    cfg['surface']['airt']['file'] = os.path.join(inputdir, 'meteo_file.dat')\n",
    "    cfg['surface']['hum']['file'] = os.path.join(inputdir, 'meteo_file.dat')\n",
    "    cfg['surface']['swr']['file'] = os.path.join(inputdir, 'swr_file.dat')\n",
    "    cfg['surface']['precip']['file'] = os.path.join(inputdir, 'precip_file.dat')\n",
    "    cfg['waves']['Hs']['file'] = os.path.join(inputdir, 'wave_file.dat')\n",
    "    cfg['waves']['stokes_drift']['us0']['file'] = os.path.join(inputdir, 'us_surface.dat')\n",
    "    cfg['waves']['stokes_drift']['vs0']['file'] = os.path.join(inputdir, 'us_surface.dat')\n",
    "    cfg['waves']['stokes_drift']['us']['file'] = os.path.join(inputdir, 'us_prof.dat')\n",
    "    cfg['waves']['stokes_drift']['vs']['file'] = os.path.join(inputdir, 'us_prof.dat')\n",
    "    for date_start in simtime.keys():\n",
    "        date_end = simtime[date_start]\n",
    "        tprof_file = os.path.join(inputdir, 'tprof_file_{:s}.dat'.format(date_start))\n",
    "        sprof_file = os.path.join(inputdir, 'sprof_file_{:s}.dat'.format(date_start))\n",
    "        if os.path.exists(tprof_file) and os.path.exists(sprof_file) and os.path.getsize(tprof_file) != 0 and os.path.getsize(sprof_file) != 0:\n",
    "            setup = 'VR{:d}m_DT{:d}s_{:s}-{:s}'.format(int(dz), int(dt), date_start, date_end)\n",
    "            cfg['time']['start'] = '{:s}-{:s}-{:s} 00:00:00'.format(date_start[0:4],date_start[4:6],date_start[6:8])\n",
    "            cfg['time']['stop']  = '{:s}-{:s}-{:s} 23:59:59'.format(date_end[0:4],date_end[4:6],date_end[6:8])\n",
    "            cfg['temperature']['file'] = tprof_file\n",
    "            cfg['salinity']['file'] = sprof_file\n",
    "            # turbmethods\n",
    "            cfg['turbulence']['turb_method'] = 'cvmix'\n",
    "            cfg['cvmix']['surface_layer']['langmuir_method'] = 'none'\n",
    "            cfgs.append(copy.deepcopy(cfg))\n",
    "            labels.append(os.path.join(setup, 'KPP-CVMix', casename))\n",
    "            # cfg['cvmix']['surface_layer']['langmuir_method'] = 'lf17'\n",
    "            # cfgs.append(copy.deepcopy(cfg))\n",
    "            # labels.append(os.path.join(setup, 'KPPLT-LF17', casename))\n",
    "            # cfg['cvmix']['surface_layer']['langmuir_method'] = 'none'\n",
    "            # cfg['cvmix']['surface_layer']['use_Stokes_MOST'] = True\n",
    "            # cfg['cvmix']['surface_layer']['check_MonOb_length'] = True\n",
    "            # cfg['cvmix']['surface_layer']['CVt2'] = 1.0\n",
    "            # cfgs.append(copy.deepcopy(cfg))\n",
    "            # labels.append(os.path.join(setup, 'StokesMOST', casename))"
   ]
  },
  {
   "cell_type": "markdown",
   "metadata": {},
   "source": [
    "## Run the model"
   ]
  },
  {
   "cell_type": "code",
   "execution_count": null,
   "metadata": {},
   "outputs": [],
   "source": [
    "nsim = len(labels)"
   ]
  },
  {
   "cell_type": "code",
   "execution_count": null,
   "metadata": {},
   "outputs": [],
   "source": [
    "nsim"
   ]
  },
  {
   "cell_type": "code",
   "execution_count": null,
   "metadata": {},
   "outputs": [],
   "source": [
    "%%time\n",
    "m.run_batch(configs=cfgs, labels=labels, nproc=32)"
   ]
  }
 ],
 "metadata": {
  "kernelspec": {
   "display_name": "Python 3",
   "language": "python",
   "name": "python3"
  },
  "language_info": {
   "codemirror_mode": {
    "name": "ipython",
    "version": 3
   },
   "file_extension": ".py",
   "mimetype": "text/x-python",
   "name": "python",
   "nbconvert_exporter": "python",
   "pygments_lexer": "ipython3",
   "version": "3.9.15"
  }
 },
 "nbformat": 4,
 "nbformat_minor": 4
}
