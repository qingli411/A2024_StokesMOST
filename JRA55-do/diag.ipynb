{
 "cells": [
  {
   "cell_type": "code",
   "execution_count": null,
   "id": "7b9ea956-11bb-47d7-a53c-a8fcb812fe98",
   "metadata": {},
   "outputs": [],
   "source": [
    "import sys\n",
    "import os\n",
    "import copy\n",
    "import numpy as np\n",
    "import matplotlib.pyplot as plt\n",
    "sys.path.append(os.path.join(os.pardir, 'gotmtool'))\n",
    "from gotmtool import *\n",
    "from gotmtool.map import *\n",
    "from gotmtool.diags import get_mld_deltaR, get_mld_deltaT"
   ]
  },
  {
   "cell_type": "code",
   "execution_count": null,
   "id": "c1a9b412-69f9-44f0-977e-467b6df80e21",
   "metadata": {},
   "outputs": [],
   "source": [
    "gotmtool_config = os.path.join(os.pardir, 'gotmtool', '.gotm_env.yaml')\n",
    "gotm_env = config_load(gotmtool_config)"
   ]
  },
  {
   "cell_type": "code",
   "execution_count": null,
   "id": "b36c2579-761d-4bd2-bdd0-aae227bc4489",
   "metadata": {},
   "outputs": [],
   "source": [
    "casename = 'JRA55-do_Global_dampV5d_3h'\n",
    "dz = 1\n",
    "dt = 600\n",
    "simtime = {\n",
    "    '20080601': '20080630',\n",
    "    '20080701': '20080731',\n",
    "    '20080801': '20080831',\n",
    "    '20080901': '20080930',\n",
    "    '20081001': '20081031',\n",
    "    '20081101': '20081130',\n",
    "    '20081201': '20081231',\n",
    "    '20090101': '20090131',\n",
    "    '20090201': '20090228',\n",
    "    '20090301': '20090331',\n",
    "    '20090401': '20090430',\n",
    "    '20090501': '20090531',\n",
    "}\n",
    "turbmethod = 'KPP-CVMix'\n",
    "# turbmethod = 'KPPLT-LF17'\n",
    "# turbmethod = 'StokesMOST'"
   ]
  },
  {
   "cell_type": "code",
   "execution_count": null,
   "id": "7e9ed278-e580-45ac-9003-f3a329d95980",
   "metadata": {},
   "outputs": [],
   "source": [
    "legacydir = '/media/qingli/Archive/work/gotmfigures/data/JRA55-do_Global_dampV5d_3h_r4'\n",
    "maskfile = 'mask_KPP-CVMix.npz'\n",
    "outputfile = 'data_map_mld_deltaR_mean_{:s}.npz'.format(turbmethod)"
   ]
  },
  {
   "cell_type": "code",
   "execution_count": null,
   "id": "469fc308-e041-4439-afb8-e0426f4115bb",
   "metadata": {},
   "outputs": [],
   "source": [
    "def get_gotmmap_mld_deltaR(rundir):\n",
    "    caselist = os.listdir(rundir)\n",
    "    ndata = len(caselist)\n",
    "    data = np.zeros(ndata)\n",
    "    lon = np.zeros(ndata)\n",
    "    lat = np.zeros(ndata)\n",
    "    tenp = int(ndata/10)\n",
    "    for i, cname in enumerate(caselist):\n",
    "        if i%tenp == 0:\n",
    "            print(' - Progress: {:6.2f} %'.format(i//tenp*10))\n",
    "        if os.path.exists(os.path.join(rundir, cname, 'gotm_out.nc')):\n",
    "            sim = Simulation(path=os.path.join(rundir, cname), dataname='gotm_out.nc')\n",
    "            ds = sim.load_data()\n",
    "            rho = ds.data_vars['rho_p']\n",
    "            mld = get_mld_deltaR(rho)\n",
    "            # data[i] = mld.isel(time=0)\n",
    "            mld = mld.where(mld<np.abs(np.min(ds.z)))\n",
    "            data[i] = mld.mean(dim='time', skipna=True)\n",
    "            lon[i] = ds.lon\n",
    "            lat[i] = ds.lat\n",
    "    gmobj = GOTMMap(data=data, lon=lon, lat=lat, name='mld_deltaR', units='m')\n",
    "    return gmobj"
   ]
  },
  {
   "cell_type": "code",
   "execution_count": null,
   "id": "3bcb3ccd-7d46-4575-be3c-1cd72b1cd1ff",
   "metadata": {},
   "outputs": [],
   "source": [
    "for date_start in simtime.keys():\n",
    "    date_end = simtime[date_start]\n",
    "    setup = 'VR{:d}m_DT{:d}s_{:s}-{:s}'.format(int(dz), int(dt), date_start, date_end)\n",
    "    print(setup)\n",
    "    outputdir = os.path.join(gotm_env['gotmdir_figure'], 'data', casename, setup)\n",
    "    rundir = os.path.join(gotm_env['gotmdir_run'], casename, setup, turbmethod)\n",
    "    os.makedirs(outputdir, exist_ok=True)\n",
    "    gmobj = get_gotmmap_mld_deltaR(rundir)\n",
    "    ofile = os.path.join(outputdir, outputfile)\n",
    "    gmobj.save(ofile)\n"
   ]
  },
  {
   "cell_type": "code",
   "execution_count": null,
   "id": "f1a1f7dd-51be-4255-ac85-493297ae916b",
   "metadata": {},
   "outputs": [],
   "source": []
  }
 ],
 "metadata": {
  "kernelspec": {
   "display_name": "Python 3",
   "language": "python",
   "name": "python3"
  },
  "language_info": {
   "codemirror_mode": {
    "name": "ipython",
    "version": 3
   },
   "file_extension": ".py",
   "mimetype": "text/x-python",
   "name": "python",
   "nbconvert_exporter": "python",
   "pygments_lexer": "ipython3",
   "version": "3.9.15"
  }
 },
 "nbformat": 4,
 "nbformat_minor": 5
}
